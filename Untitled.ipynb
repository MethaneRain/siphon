{
 "cells": [
  {
   "cell_type": "code",
   "execution_count": 1,
   "metadata": {},
   "outputs": [
    {
     "name": "stderr",
     "output_type": "stream",
     "text": [
      "/Users/chowdahead/Documents/GitHub/siphon/siphon/ncss.py:449: UserWarning: netCDF4 module not installed. Will be unable to handle NetCDF returns from NCSS.\n",
      "  warnings.warn('netCDF4 module not installed. '\n"
     ]
    }
   ],
   "source": [
    "# Accessing Data from XLM Catalog via Siphon Libraries\n",
    "from siphon.catalog import TDSCatalog\n",
    "from siphon.ncss import NCSS"
   ]
  },
  {
   "cell_type": "code",
   "execution_count": 21,
   "metadata": {},
   "outputs": [],
   "source": [
    "from datetime import datetime"
   ]
  },
  {
   "cell_type": "code",
   "execution_count": 22,
   "metadata": {},
   "outputs": [],
   "source": [
    "now = datetime.utcnow()"
   ]
  },
  {
   "cell_type": "code",
   "execution_count": 23,
   "metadata": {},
   "outputs": [],
   "source": [
    "# Request the GFS data from the thredds server\n",
    "gfs_url = f\"https://thredds.ucar.edu/thredds/catalog/grib/NCEP/GFS/Global_0p25deg/GFS_Global_0p25deg_{now.year}{now.month:02d}{now.day:02d}_0000.grib2/catalog.xml\"\n",
    "\n",
    "gfs = TDSCatalog(gfs_url)\n",
    "    \n",
    "dataset = list(gfs.datasets.values())[0]\n",
    "#print(dataset.access_urls)\n",
    "    \n",
    "# Create NCSS object to access the NetcdfSubset\n",
    "ncss = NCSS(dataset.access_urls['NetcdfSubset'])"
   ]
  },
  {
   "cell_type": "code",
   "execution_count": 37,
   "metadata": {},
   "outputs": [],
   "source": [
    "# \"Model:{Product:url extension}\"\n",
    "model_dict = {\"RAP\":{\"CONUS_13km\":\"CONUS_13km/RR_CONUS_13km\",\n",
    "                     \"CONUS_20km\":\"CONUS_20km/RR_CONUS_20km\",\n",
    "                     \"CONUS_40km\":\"CONUS_40km/RR_CONUS_40km\"},\n",
    "\n",
    "              \"GFS\":{\"0p25_ana\":\"Global_0p25deg_ana/GFS_Global_0p25deg_ana\",\n",
    "                     \"0p25\":\"Global_0p25deg/GFS_Global_0p25deg\",\n",
    "                     \"0p5_ana\":\"Global_0p5deg_ana/GFS_Global_0p5deg_ana\",\n",
    "                     \"0p5\":\"Global_0p5deg/GFS_Global_0p5deg\",\n",
    "                     \"onedeg_ana\":\"Global_onedeg_ana/GFS_Global_onedeg_ana\",\n",
    "                     \"onedeg\":\"Global_onedeg/GFS_Global_onedeg\",\n",
    "                     \"Pac_20km\":\"Pacific_20km/GFS_Pacific_20km\",\n",
    "                     \"PR_0p25\":\"Puerto_Rico_0p25deg/GFS_Puerto_Rico_0p25deg\",\n",
    "                     \"CONUS_95km\":\"CONUS_95km/GFS_CONUS_95km\",\n",
    "                     \"CONUS_80km\":\"CONUS_80km/GFS_CONUS_80km\",\n",
    "                     \"CONUS_20km\":\"CONUS_20km/GFS_CONUS_20km\",\n",
    "                     \"AK_20km\":\"Alaska_20km/GFS_Alaska_20km\"},\n",
    "\n",
    "              \"HRRR\":{\"CONUS_3km\":\"CONUS_3km/surface/HRRR_CONUS_3km\",\n",
    "                      \"CONUS_2p5km_ana\":\"CONUS_2p5km_ANA/HRRR_CONUS_2p5km_ana\",\n",
    "                      \"CONUS_2p5km\":\"CONUS_2p5km/HRRR_CONUS_2p5km\"},\n",
    "\n",
    "              \"GEFS\":{\"onedeg_ana\":\"Global_1p0deg_Ensemble/members-analysis/GEFS_Global_1p0deg_Ensemble_ana\",\n",
    "                  \"onedeg\":\"Global_1p0deg_Ensemble/members/GEFS_Global_1p0deg_Ensemble\",\n",
    "                  \"onedeg_derived\":\"Global_1p0deg_Ensemble/derived/GEFS_Global_1p0deg_Ensemble_derived\"},\n",
    "\n",
    "              \"NAM\":{\"AK_11km\":\"Alaska_11km/NAM_Alaska_11km\",\n",
    "                                    \"AK_45km_noaaport\":\"Alaska_45km/noaaport\",\n",
    "                                    \"AK_45km_conduit\":\"Alaska_45km/conduit\",\n",
    "                                    \"AK_95km\":\"Alaska_95km\",\n",
    "                                    \"CONUS_12km_noaaport\":\"CONUS_12km/NAM_CONUS_12km\",\n",
    "                                    \"CONUS_12km_conduit\":\"CONUS_12km/conduit\",\n",
    "                                    \"CONUS_20km\":\"CONUS_20km/noaaport\",\n",
    "                                    \"CONUS_40km\":\"CONUS_40km/noaaport\",\n",
    "                                    \"CONUS_80km\":\"CONUS_80km/noaaport\",\n",
    "                                    \"Polar_90km\":\"Polar_90km\",\n",
    "                                    \"Fireweather_nested\":\"Firewxnest\",\n",
    "                                    }\n",
    "              }"
   ]
  },
  {
   "cell_type": "code",
   "execution_count": 39,
   "metadata": {},
   "outputs": [
    {
     "data": {
      "text/plain": [
       "['RAP', 'GFS', 'HRRR', 'GEFS', 'NAM']"
      ]
     },
     "execution_count": 39,
     "metadata": {},
     "output_type": "execute_result"
    }
   ],
   "source": [
    "list(model_dict.keys())"
   ]
  },
  {
   "cell_type": "code",
   "execution_count": 43,
   "metadata": {},
   "outputs": [
    {
     "data": {
      "text/plain": [
       "'CONUS_13km/RR_CONUS_13km'"
      ]
     },
     "execution_count": 43,
     "metadata": {},
     "output_type": "execute_result"
    }
   ],
   "source": [
    "ncss.model_dict[\"RAP\"][\"CONUS_13km\"]"
   ]
  },
  {
   "cell_type": "code",
   "execution_count": 41,
   "metadata": {},
   "outputs": [],
   "source": [
    "ncss.get_var_info(model=\"RAP\",prod=\"CONUS_13km\",datetime_obj=datetime.utcnow(),init_hour = \"0000\")"
   ]
  },
  {
   "cell_type": "code",
   "execution_count": 42,
   "metadata": {},
   "outputs": [
    {
     "data": {
      "text/plain": [
       "'https://thredds.ucar.edu/thredds/ncss/grib/NCEP/RAP/CONUS_13km/RR_CONUS_13km_20201007_0000.grib2/dataset.html'"
      ]
     },
     "execution_count": 42,
     "metadata": {},
     "output_type": "execute_result"
    }
   ],
   "source": [
    "ncss.catalog"
   ]
  },
  {
   "cell_type": "code",
   "execution_count": null,
   "metadata": {},
   "outputs": [],
   "source": []
  }
 ],
 "metadata": {
  "kernelspec": {
   "display_name": "Python 3",
   "language": "python",
   "name": "python3"
  },
  "language_info": {
   "codemirror_mode": {
    "name": "ipython",
    "version": 3
   },
   "file_extension": ".py",
   "mimetype": "text/x-python",
   "name": "python",
   "nbconvert_exporter": "python",
   "pygments_lexer": "ipython3",
   "version": "3.6.11"
  }
 },
 "nbformat": 4,
 "nbformat_minor": 4
}
