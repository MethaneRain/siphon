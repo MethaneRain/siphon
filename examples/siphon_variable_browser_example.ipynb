{
 "cells": [
  {
   "cell_type": "code",
   "execution_count": 1,
   "metadata": {},
   "outputs": [
    {
     "name": "stderr",
     "output_type": "stream",
     "text": [
      "/Users/chowdahead/anaconda3/envs/siphon-branch/lib/python3.6/site-packages/siphon/ncss.py:497: UserWarning: netCDF4 module not installed. Will be unable to handle NetCDF returns from NCSS.\n",
      "  warnings.warn('netCDF4 module not installed. '\n"
     ]
    }
   ],
   "source": [
    "# Accessing Data from XLM Catalog via Siphon Libraries\n",
    "from siphon.catalog import TDSCatalog\n",
    "from siphon.ncss import NCSS"
   ]
  },
  {
   "cell_type": "code",
   "execution_count": 2,
   "metadata": {},
   "outputs": [],
   "source": [
    "from datetime import datetime"
   ]
  },
  {
   "cell_type": "code",
   "execution_count": 3,
   "metadata": {},
   "outputs": [],
   "source": [
    "now = datetime.utcnow()"
   ]
  },
  {
   "cell_type": "code",
   "execution_count": 4,
   "metadata": {},
   "outputs": [],
   "source": [
    "# Request the GFS data from the thredds server\n",
    "gfs_url = f\"https://thredds.ucar.edu/thredds/catalog/grib/NCEP/GFS/Global_0p25deg/GFS_Global_0p25deg_{now.year}{now.month:02d}{now.day:02d}_0000.grib2/catalog.xml\"\n",
    "\n",
    "gfs = TDSCatalog(gfs_url)\n",
    "    \n",
    "dataset = list(gfs.datasets.values())[0]\n",
    "#print(dataset.access_urls)\n",
    "    \n",
    "# Create NCSS object to access the NetcdfSubset\n",
    "ncss = NCSS(dataset.access_urls['NetcdfSubset'])"
   ]
  },
  {
   "cell_type": "code",
   "execution_count": 6,
   "metadata": {},
   "outputs": [
    {
     "data": {
      "text/plain": [
       "['RAP', 'GFS', 'HRRR', 'GEFS', 'NAM', 'NDFD', 'RTMA', 'NCEP Blend']"
      ]
     },
     "execution_count": 6,
     "metadata": {},
     "output_type": "execute_result"
    }
   ],
   "source": [
    "list(ncss.thredds_model_dict.keys())"
   ]
  },
  {
   "cell_type": "code",
   "execution_count": 7,
   "metadata": {},
   "outputs": [
    {
     "data": {
      "text/plain": [
       "'RAP/CONUS_13km/RR_CONUS_13km'"
      ]
     },
     "execution_count": 7,
     "metadata": {},
     "output_type": "execute_result"
    }
   ],
   "source": [
    "ncss.thredds_model_dict[\"RAP\"][\"CONUS_13km\"]"
   ]
  },
  {
   "cell_type": "code",
   "execution_count": 8,
   "metadata": {},
   "outputs": [
    {
     "ename": "AttributeError",
     "evalue": "'NCSS' object has no attribute 'model_dict'",
     "output_type": "error",
     "traceback": [
      "\u001b[0;31m---------------------------------------------------------------------------\u001b[0m",
      "\u001b[0;31mAttributeError\u001b[0m                            Traceback (most recent call last)",
      "\u001b[0;32m<ipython-input-8-710c7a136be6>\u001b[0m in \u001b[0;36m<module>\u001b[0;34m\u001b[0m\n\u001b[0;32m----> 1\u001b[0;31m \u001b[0mncss\u001b[0m\u001b[0;34m.\u001b[0m\u001b[0mopen_var_browser\u001b[0m\u001b[0;34m(\u001b[0m\u001b[0mmodel\u001b[0m\u001b[0;34m=\u001b[0m\u001b[0;34m\"RAP\"\u001b[0m\u001b[0;34m,\u001b[0m\u001b[0mprod\u001b[0m\u001b[0;34m=\u001b[0m\u001b[0;34m\"CONUS_13km\"\u001b[0m\u001b[0;34m,\u001b[0m\u001b[0mdatetime_obj\u001b[0m\u001b[0;34m=\u001b[0m\u001b[0mdatetime\u001b[0m\u001b[0;34m.\u001b[0m\u001b[0mutcnow\u001b[0m\u001b[0;34m(\u001b[0m\u001b[0;34m)\u001b[0m\u001b[0;34m,\u001b[0m\u001b[0minit_hour\u001b[0m \u001b[0;34m=\u001b[0m \u001b[0;34m\"0000\"\u001b[0m\u001b[0;34m)\u001b[0m\u001b[0;34m\u001b[0m\u001b[0;34m\u001b[0m\u001b[0m\n\u001b[0m",
      "\u001b[0;32m~/anaconda3/envs/siphon-branch/lib/python3.6/site-packages/siphon/ncss.py\u001b[0m in \u001b[0;36mopen_var_browser\u001b[0;34m(self, model, prod, datetime_obj, init_hour)\u001b[0m\n\u001b[1;32m    198\u001b[0m         \u001b[0;31m# Top of Thredds catalog\u001b[0m\u001b[0;34m\u001b[0m\u001b[0;34m\u001b[0m\u001b[0;34m\u001b[0m\u001b[0m\n\u001b[1;32m    199\u001b[0m         \u001b[0mself\u001b[0m\u001b[0;34m.\u001b[0m\u001b[0mcat_top_url\u001b[0m \u001b[0;34m=\u001b[0m \u001b[0;34m\"https://thredds.ucar.edu/thredds/ncss/grib/NCEP/\"\u001b[0m\u001b[0;34m\u001b[0m\u001b[0;34m\u001b[0m\u001b[0m\n\u001b[0;32m--> 200\u001b[0;31m         \u001b[0mcat_2\u001b[0m \u001b[0;34m=\u001b[0m \u001b[0;34mf\"{self.model_dict[model][prod]}_{datetime_obj.year}{datetime_obj.month:02d}{datetime_obj.day:02d}\"\u001b[0m\u001b[0;34m+\u001b[0m\u001b[0;31m\\\u001b[0m\u001b[0;34m\u001b[0m\u001b[0;34m\u001b[0m\u001b[0m\n\u001b[0m\u001b[1;32m    201\u001b[0m             \u001b[0;34mf\"_{init_hour}.grib2/dataset.html\"\u001b[0m\u001b[0;34m\u001b[0m\u001b[0;34m\u001b[0m\u001b[0m\n\u001b[1;32m    202\u001b[0m \u001b[0;34m\u001b[0m\u001b[0m\n",
      "\u001b[0;31mAttributeError\u001b[0m: 'NCSS' object has no attribute 'model_dict'"
     ]
    }
   ],
   "source": [
    "ncss.open_var_browser(model=\"RAP\",prod=\"CONUS_13km\",datetime_obj=datetime.utcnow(),init_hour = \"0000\")"
   ]
  },
  {
   "cell_type": "code",
   "execution_count": 8,
   "metadata": {},
   "outputs": [
    {
     "data": {
      "text/plain": [
       "'https://thredds.ucar.edu/thredds/ncss/grib/NCEP/RAP/CONUS_13km/RR_CONUS_13km_20201007_0000.grib2/dataset.html'"
      ]
     },
     "execution_count": 8,
     "metadata": {},
     "output_type": "execute_result"
    }
   ],
   "source": [
    "ncss.catalog"
   ]
  },
  {
   "cell_type": "code",
   "execution_count": 11,
   "metadata": {},
   "outputs": [],
   "source": [
    "ncss.open_var_browser?"
   ]
  },
  {
   "cell_type": "code",
   "execution_count": null,
   "metadata": {},
   "outputs": [],
   "source": []
  }
 ],
 "metadata": {
  "kernelspec": {
   "display_name": "Python 3",
   "language": "python",
   "name": "python3"
  },
  "language_info": {
   "codemirror_mode": {
    "name": "ipython",
    "version": 3
   },
   "file_extension": ".py",
   "mimetype": "text/x-python",
   "name": "python",
   "nbconvert_exporter": "python",
   "pygments_lexer": "ipython3",
   "version": "3.6.11"
  }
 },
 "nbformat": 4,
 "nbformat_minor": 4
}
