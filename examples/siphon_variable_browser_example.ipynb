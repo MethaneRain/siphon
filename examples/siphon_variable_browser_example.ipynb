{
 "cells": [
  {
   "cell_type": "code",
   "execution_count": 1,
   "metadata": {},
   "outputs": [],
   "source": [
    "# Accessing Data from XLM Catalog via Siphon Libraries\n",
    "from siphon.catalog import TDSCatalog\n",
    "from siphon.ncss import NCSS"
   ]
  },
  {
   "cell_type": "code",
   "execution_count": 2,
   "metadata": {},
   "outputs": [],
   "source": [
    "from datetime import datetime, timedelta"
   ]
  },
  {
   "cell_type": "code",
   "execution_count": 3,
   "metadata": {},
   "outputs": [],
   "source": [
    "now = datetime.utcnow()"
   ]
  },
  {
   "cell_type": "code",
   "execution_count": 8,
   "metadata": {},
   "outputs": [],
   "source": [
    "from siphon import ncss as woo"
   ]
  },
  {
   "cell_type": "code",
   "execution_count": 9,
   "metadata": {},
   "outputs": [
    {
     "data": {
      "text/plain": [
       "{'RAP': {'CONUS_13km': 'RAP/CONUS_13km/RR_CONUS_13km',\n",
       "  'CONUS_20km': 'RAP/CONUS_20km/RR_CONUS_20km',\n",
       "  'CONUS_40km': 'RAP/CONUS_40km/RR_CONUS_40km'},\n",
       " 'GFS': {'0p25_ana': 'GFS/Global_0p25deg_ana/GFS_Global_0p25deg_ana',\n",
       "  '0p25': 'GFS/Global_0p25deg/GFS_Global_0p25deg',\n",
       "  '0p5_ana': 'GFS/Global_0p5deg_ana/GFS_Global_0p5deg_ana',\n",
       "  '0p5': 'GFS/Global_0p5deg/GFS_Global_0p5deg',\n",
       "  'onedeg_ana': 'GFS/Global_onedeg_ana/GFS_Global_onedeg_ana',\n",
       "  'onedeg': 'GFS/Global_onedeg/GFS_Global_onedeg',\n",
       "  'Pac_20km': 'GFS/Pacific_20km/GFS_Pacific_20km',\n",
       "  'PR_0p25': 'GFS/Puerto_Rico_0p25deg/GFS_Puerto_Rico_0p25deg',\n",
       "  'CONUS_95km': 'GFS/CONUS_95km/GFS_CONUS_95km',\n",
       "  'CONUS_80km': 'GFS/CONUS_80km/GFS_CONUS_80km',\n",
       "  'CONUS_20km': 'GFS/CONUS_20km/GFS_CONUS_20km',\n",
       "  'AK_20km': 'GFS/Alaska_20km/GFS_Alaska_20km'},\n",
       " 'HRRR': {'CONUS_3km': 'HRRR/CONUS_3km/surface/HRRR_CONUS_3km',\n",
       "  'CONUS_2p5km_ana': 'HRRR/CONUS_2p5km_ANA/HRRR_CONUS_2p5km_ana',\n",
       "  'CONUS_2p5km': 'HRRR/CONUS_2p5km/HRRR_CONUS_2p5km'},\n",
       " 'GEFS': {'onedeg_ana': 'GEFS/Global_1p0deg_Ensemble/members-analysis/GEFS_Global_1p0deg_Ensemble_ana',\n",
       "  'onedeg': 'GEFS/Global_1p0deg_Ensemble/members/GEFS_Global_1p0deg_Ensemble',\n",
       "  'onedeg_derived': 'GEFS/Global_1p0deg_Ensemble/derived/GEFS_Global_1p0deg_Ensemble_derived'},\n",
       " 'NAM': {'AK_11km': 'NAM/Alaska_11km/NAM_Alaska_11km',\n",
       "  'AK_45km_noaaport': 'NAM/Alaska_45km/noaaport',\n",
       "  'AK_45km_conduit': 'NAM/Alaska_45km/conduit',\n",
       "  'AK_95km': 'NAM/Alaska_95km',\n",
       "  'CONUS_12km_noaaport': 'NAM/CONUS_12km/NAM_CONUS_12km',\n",
       "  'CONUS_12km_conduit': 'NAM/CONUS_12km/conduit',\n",
       "  'CONUS_20km': 'NAM/CONUS_20km/noaaport',\n",
       "  'CONUS_40km': 'NAM/CONUS_40km/noaaport',\n",
       "  'CONUS_80km': 'NAM/CONUS_80km/noaaport',\n",
       "  'Polar_90km': 'NAM/Polar_90km',\n",
       "  'Fireweather_nested': 'NAM/Firewxnest'},\n",
       " 'NDFD': {'CONUS_forecast_grids_noaaport': 'NDFD/SPC/CONUS/NDFD_SPC_CONUS_2p5km',\n",
       "  'CONUS_forecast_grids_conduit': 'CONUS_20km/RR_CONUS_20km',\n",
       "  'CONUS_SPC': 'NDFD/SPC/CONUS/NDFD_SPC_CONUS_2p5km',\n",
       "  'CONUS_CPC': 'NDFD/CPC/CONUS/NDFD_CPC_CONUS'},\n",
       " 'RTMA': {'meso_ana_2p5km': 'RTMA/CONUS_2p5km/RTMA_CONUS_2p5km',\n",
       "  'meso_guam_ana_2p5km': 'RTMA/GUAM_2p5km/RTMA_GUAM_2p5km'},\n",
       " 'NCEP Blend': {'CONUS': 'NBM/CONUS/National_Blend_CONUS',\n",
       "  'Ocean': 'NBM/Ocean/National_Blend_Ocean',\n",
       "  'AK': 'NBM/Alaska/National_Blend_Alaska',\n",
       "  'HI': 'NBM/Hawaii/National_Blend_Hawaii',\n",
       "  'PR': 'NBM/PuertoRico/National_Blend_PuertoRico'}}"
      ]
     },
     "execution_count": 9,
     "metadata": {},
     "output_type": "execute_result"
    }
   ],
   "source": [
    "woo.thredds_model_dict"
   ]
  },
  {
   "cell_type": "code",
   "execution_count": 10,
   "metadata": {},
   "outputs": [
    {
     "data": {
      "text/plain": [
       "['RAP', 'GFS', 'HRRR', 'GEFS', 'NAM', 'NDFD', 'RTMA', 'NCEP Blend']"
      ]
     },
     "execution_count": 10,
     "metadata": {},
     "output_type": "execute_result"
    }
   ],
   "source": [
    "list(woo.thredds_model_dict.keys())"
   ]
  },
  {
   "cell_type": "code",
   "execution_count": 12,
   "metadata": {},
   "outputs": [
    {
     "data": {
      "text/plain": [
       "{'0p25_ana': 'GFS/Global_0p25deg_ana/GFS_Global_0p25deg_ana',\n",
       " '0p25': 'GFS/Global_0p25deg/GFS_Global_0p25deg',\n",
       " '0p5_ana': 'GFS/Global_0p5deg_ana/GFS_Global_0p5deg_ana',\n",
       " '0p5': 'GFS/Global_0p5deg/GFS_Global_0p5deg',\n",
       " 'onedeg_ana': 'GFS/Global_onedeg_ana/GFS_Global_onedeg_ana',\n",
       " 'onedeg': 'GFS/Global_onedeg/GFS_Global_onedeg',\n",
       " 'Pac_20km': 'GFS/Pacific_20km/GFS_Pacific_20km',\n",
       " 'PR_0p25': 'GFS/Puerto_Rico_0p25deg/GFS_Puerto_Rico_0p25deg',\n",
       " 'CONUS_95km': 'GFS/CONUS_95km/GFS_CONUS_95km',\n",
       " 'CONUS_80km': 'GFS/CONUS_80km/GFS_CONUS_80km',\n",
       " 'CONUS_20km': 'GFS/CONUS_20km/GFS_CONUS_20km',\n",
       " 'AK_20km': 'GFS/Alaska_20km/GFS_Alaska_20km'}"
      ]
     },
     "execution_count": 12,
     "metadata": {},
     "output_type": "execute_result"
    }
   ],
   "source": [
    "woo.thredds_model_dict[\"GFS\"]"
   ]
  },
  {
   "cell_type": "code",
   "execution_count": 11,
   "metadata": {},
   "outputs": [
    {
     "name": "stdout",
     "output_type": "stream",
     "text": [
      "2020-10-07 21:53:33.841919\n"
     ]
    }
   ],
   "source": [
    "now = datetime.utcnow()\n",
    "# define time range you want the data for\n",
    "start = now\n",
    "print(start)\n",
    "delta_t = 12\n",
    "end = now + timedelta(hours=delta_t)"
   ]
  },
  {
   "cell_type": "code",
   "execution_count": 14,
   "metadata": {},
   "outputs": [
    {
     "data": {
      "text/plain": [
       "'https://thredds.ucar.edu/thredds/ncss/grib/NCEP/GFS/CONUS_20km/GFS_CONUS_20km_20201007_0000.grib2/dataset.html'"
      ]
     },
     "execution_count": 14,
     "metadata": {},
     "output_type": "execute_result"
    }
   ],
   "source": [
    "catalog_url = woo.open_var_browser(\"GFS\",'CONUS_20km',now,\"0000\")\n",
    "catalog_url"
   ]
  },
  {
   "cell_type": "code",
   "execution_count": 16,
   "metadata": {},
   "outputs": [
    {
     "ename": "AttributeError",
     "evalue": "'list' object has no attribute 'access_urls'",
     "output_type": "error",
     "traceback": [
      "\u001b[0;31m---------------------------------------------------------------------------\u001b[0m",
      "\u001b[0;31mAttributeError\u001b[0m                            Traceback (most recent call last)",
      "\u001b[0;32m<ipython-input-16-252e383c6680>\u001b[0m in \u001b[0;36m<module>\u001b[0;34m\u001b[0m\n\u001b[1;32m      6\u001b[0m \u001b[0;34m\u001b[0m\u001b[0m\n\u001b[1;32m      7\u001b[0m \u001b[0;31m# Create NCSS object to access the NetcdfSubset\u001b[0m\u001b[0;34m\u001b[0m\u001b[0;34m\u001b[0m\u001b[0;34m\u001b[0m\u001b[0m\n\u001b[0;32m----> 8\u001b[0;31m \u001b[0mncss\u001b[0m \u001b[0;34m=\u001b[0m \u001b[0mNCSS\u001b[0m\u001b[0;34m(\u001b[0m\u001b[0mdataset\u001b[0m\u001b[0;34m.\u001b[0m\u001b[0maccess_urls\u001b[0m\u001b[0;34m[\u001b[0m\u001b[0;34m'NetcdfSubset'\u001b[0m\u001b[0;34m]\u001b[0m\u001b[0;34m)\u001b[0m\u001b[0;34m\u001b[0m\u001b[0;34m\u001b[0m\u001b[0m\n\u001b[0m",
      "\u001b[0;31mAttributeError\u001b[0m: 'list' object has no attribute 'access_urls'"
     ]
    }
   ],
   "source": [
    "# Request the GFS data from the thredds server\n",
    "gfs_url = f\"https://thredds.ucar.edu/thredds/catalog/grib/NCEP/GFS/Global_0p25deg/GFS_Global_0p25deg_{now.year}{now.month:02d}{now.day:02d}_0000.grib2/catalog.xml\"\n",
    "gfs = TDSCatalog(gfs_url)\n",
    "    \n",
    "dataset = list(gfs.datasets.values())[0]\n",
    "#print(dataset.access_urls)\n",
    "    \n",
    "# Create NCSS object to access the NetcdfSubset\n",
    "ncss = NCSS(dataset.access_urls['NetcdfSubset'])"
   ]
  },
  {
   "cell_type": "code",
   "execution_count": 6,
   "metadata": {},
   "outputs": [
    {
     "data": {
      "text/plain": [
       "time_start=2020-10-07T21%3A43%3A11.616876&time_end=2020-10-08T09%3A43%3A11.616876&west=200&east=310&south=0&north=80&accept=netcdf4"
      ]
     },
     "execution_count": 6,
     "metadata": {},
     "output_type": "execute_result"
    }
   ],
   "source": [
    "query = ncss.query()\n",
    "query.time_range(start, end)\n",
    "Lat = query.lonlat_box(north=80, south=0, east=310, west=200)\n",
    "query.accept('netcdf4')"
   ]
  },
  {
   "cell_type": "code",
   "execution_count": 7,
   "metadata": {},
   "outputs": [
    {
     "data": {
      "text/plain": [
       "{'0p25_ana': 'GFS/Global_0p25deg_ana/GFS_Global_0p25deg_ana',\n",
       " '0p25': 'GFS/Global_0p25deg/GFS_Global_0p25deg',\n",
       " '0p5_ana': 'GFS/Global_0p5deg_ana/GFS_Global_0p5deg_ana',\n",
       " '0p5': 'GFS/Global_0p5deg/GFS_Global_0p5deg',\n",
       " 'onedeg_ana': 'GFS/Global_onedeg_ana/GFS_Global_onedeg_ana',\n",
       " 'onedeg': 'GFS/Global_onedeg/GFS_Global_onedeg',\n",
       " 'Pac_20km': 'GFS/Pacific_20km/GFS_Pacific_20km',\n",
       " 'PR_0p25': 'GFS/Puerto_Rico_0p25deg/GFS_Puerto_Rico_0p25deg',\n",
       " 'CONUS_95km': 'GFS/CONUS_95km/GFS_CONUS_95km',\n",
       " 'CONUS_80km': 'GFS/CONUS_80km/GFS_CONUS_80km',\n",
       " 'CONUS_20km': 'GFS/CONUS_20km/GFS_CONUS_20km',\n",
       " 'AK_20km': 'GFS/Alaska_20km/GFS_Alaska_20km'}"
      ]
     },
     "execution_count": 7,
     "metadata": {},
     "output_type": "execute_result"
    }
   ],
   "source": [
    "mslp_name = \"\" # What is the name in the catalog???????\n",
    "# .\n",
    "# .\n",
    "# .\n",
    "# check out the ncss.thredds_model_dict dictionary and ncss.open_var_browser() method\n",
    "ncss.thredds_model_dict[\"GFS\"]"
   ]
  },
  {
   "cell_type": "code",
   "execution_count": null,
   "metadata": {},
   "outputs": [],
   "source": [
    "current_catalog = ncss.open_var_browser(\"GFS\",\"0p25\",datetime.utcnow(),\"0000\")"
   ]
  },
  {
   "cell_type": "code",
   "execution_count": 8,
   "metadata": {},
   "outputs": [
    {
     "data": {
      "text/plain": [
       "var=MSLP_Eta_model_reduction_msl&time_start=2020-10-07T21%3A43%3A11.616876&time_end=2020-10-08T09%3A43%3A11.616876&west=200&east=310&south=0&north=80&accept=netcdf4&addLatLon=True"
      ]
     },
     "execution_count": 8,
     "metadata": {},
     "output_type": "execute_result"
    }
   ],
   "source": [
    "mslp_name = \"MSLP_Eta_model_reduction_msl\"\n",
    "query.variables(mslp_name).add_lonlat(True)"
   ]
  },
  {
   "cell_type": "code",
   "execution_count": 9,
   "metadata": {},
   "outputs": [],
   "source": [
    "# Request data for the variables you want to use\n",
    "data = ncss.get_data(query)"
   ]
  },
  {
   "cell_type": "code",
   "execution_count": 10,
   "metadata": {},
   "outputs": [
    {
     "data": {
      "text/plain": [
       "<class 'netCDF4._netCDF4.Dataset'>\n",
       "root group (NETCDF4 data model, file format HDF5):\n",
       "    Originating_or_generating_Center: US National Weather Service, National Centres for Environmental Prediction (NCEP)\n",
       "    Originating_or_generating_Subcenter: 0\n",
       "    GRIB_table_version: 2,1\n",
       "    Type_of_generating_process: Forecast\n",
       "    Analysis_or_forecast_generating_process_identifier_defined_by_originating_centre: Analysis from GFS (Global Forecast System)\n",
       "    Conventions: CF-1.6\n",
       "    history: Read using CDM IOSP GribCollection v3\n",
       "    featureType: GRID\n",
       "    History: Translated to CF-1.0 Conventions by Netcdf-Java CDM (CFGridWriter2)\n",
       "Original Dataset = /data/ldm/pub/native/grid/NCEP/GFS/Global_0p25deg/GFS_Global_0p25deg_20201007_0000.grib2.ncx3#LatLon_721X1440-p125S-180p0E; Translation Date = 2020-10-07T21:43:19.841Z\n",
       "    geospatial_lat_min: 0.0\n",
       "    geospatial_lat_max: 80.0\n",
       "    geospatial_lon_min: -160.0\n",
       "    geospatial_lon_max: -50.0\n",
       "    dimensions(sizes): time(4), lat(321), lon(441)\n",
       "    variables(dimensions): float32 MSLP_Eta_model_reduction_msl(time, lat, lon), float64 time(time), float32 lat(lat), float32 lon(lon), int32 LatLon_Projection()\n",
       "    groups: "
      ]
     },
     "execution_count": 10,
     "metadata": {},
     "output_type": "execute_result"
    }
   ],
   "source": [
    "# don't have netcdf4 installed at the moment so data wont be pulled correctly\n",
    "data"
   ]
  },
  {
   "cell_type": "code",
   "execution_count": null,
   "metadata": {},
   "outputs": [],
   "source": [
    "ncss.thredds_model_dict"
   ]
  },
  {
   "cell_type": "code",
   "execution_count": null,
   "metadata": {},
   "outputs": [],
   "source": [
    "list(ncss.thredds_model_dict.keys())"
   ]
  },
  {
   "cell_type": "code",
   "execution_count": null,
   "metadata": {},
   "outputs": [],
   "source": [
    "ncss.thredds_model_dict[\"RAP\"].keys()"
   ]
  },
  {
   "cell_type": "code",
   "execution_count": null,
   "metadata": {},
   "outputs": [],
   "source": [
    "current_catalog = ncss.open_var_browser(model=\"RAP\",prod=\"CONUS_13km\",datetime_obj=datetime.utcnow(),init_hour = \"0000\")"
   ]
  },
  {
   "cell_type": "code",
   "execution_count": null,
   "metadata": {},
   "outputs": [],
   "source": [
    "current_catalog"
   ]
  },
  {
   "cell_type": "code",
   "execution_count": null,
   "metadata": {},
   "outputs": [],
   "source": [
    "ncss.open_var_browser?"
   ]
  },
  {
   "cell_type": "code",
   "execution_count": null,
   "metadata": {},
   "outputs": [],
   "source": []
  }
 ],
 "metadata": {
  "kernelspec": {
   "display_name": "Python 3",
   "language": "python",
   "name": "python3"
  },
  "language_info": {
   "codemirror_mode": {
    "name": "ipython",
    "version": 3
   },
   "file_extension": ".py",
   "mimetype": "text/x-python",
   "name": "python",
   "nbconvert_exporter": "python",
   "pygments_lexer": "ipython3",
   "version": "3.6.11"
  }
 },
 "nbformat": 4,
 "nbformat_minor": 4
}
