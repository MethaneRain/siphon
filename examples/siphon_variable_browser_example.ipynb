{
 "cells": [
  {
   "cell_type": "code",
   "execution_count": 1,
   "metadata": {},
   "outputs": [
    {
     "name": "stderr",
     "output_type": "stream",
     "text": [
      "/Users/chowdahead/anaconda3/envs/siphon-branch/lib/python3.6/site-packages/siphon/ncss.py:503: UserWarning: netCDF4 module not installed. Will be unable to handle NetCDF returns from NCSS.\n",
      "  warnings.warn('netCDF4 module not installed. '\n"
     ]
    }
   ],
   "source": [
    "# Accessing Data from XLM Catalog via Siphon Libraries\n",
    "from siphon.catalog import TDSCatalog\n",
    "from siphon.ncss import NCSS"
   ]
  },
  {
   "cell_type": "code",
   "execution_count": 2,
   "metadata": {},
   "outputs": [],
   "source": [
    "from datetime import datetime, timedelta"
   ]
  },
  {
   "cell_type": "code",
   "execution_count": 3,
   "metadata": {},
   "outputs": [],
   "source": [
    "now = datetime.utcnow()"
   ]
  },
  {
   "cell_type": "code",
   "execution_count": 4,
   "metadata": {},
   "outputs": [],
   "source": [
    "# Request the GFS data from the thredds server\n",
    "gfs_url = f\"https://thredds.ucar.edu/thredds/catalog/grib/NCEP/GFS/Global_0p25deg/GFS_Global_0p25deg_{now.year}{now.month:02d}{now.day:02d}_0000.grib2/catalog.xml\"\n",
    "gfs = TDSCatalog(gfs_url)\n",
    "    \n",
    "dataset = list(gfs.datasets.values())[0]\n",
    "#print(dataset.access_urls)\n",
    "    \n",
    "# Create NCSS object to access the NetcdfSubset\n",
    "ncss = NCSS(dataset.access_urls['NetcdfSubset'])"
   ]
  },
  {
   "cell_type": "code",
   "execution_count": 5,
   "metadata": {},
   "outputs": [
    {
     "name": "stdout",
     "output_type": "stream",
     "text": [
      "2020-10-07 21:38:47.856666\n"
     ]
    }
   ],
   "source": [
    "now = datetime.utcnow()\n",
    "# define time range you want the data for\n",
    "start = now\n",
    "print(start)\n",
    "delta_t = 12\n",
    "end = now + timedelta(hours=delta_t)"
   ]
  },
  {
   "cell_type": "code",
   "execution_count": 6,
   "metadata": {},
   "outputs": [
    {
     "data": {
      "text/plain": [
       "time_start=2020-10-07T21%3A38%3A47.856666&time_end=2020-10-08T09%3A38%3A47.856666&west=200&east=310&south=0&north=80&accept=netcdf4"
      ]
     },
     "execution_count": 6,
     "metadata": {},
     "output_type": "execute_result"
    }
   ],
   "source": [
    "query = ncss.query()\n",
    "query.time_range(start, end)\n",
    "Lat = query.lonlat_box(north=80, south=0, east=310, west=200)\n",
    "query.accept('netcdf4')"
   ]
  },
  {
   "cell_type": "code",
   "execution_count": 7,
   "metadata": {},
   "outputs": [
    {
     "data": {
      "text/plain": [
       "{'0p25_ana': 'GFS/Global_0p25deg_ana/GFS_Global_0p25deg_ana',\n",
       " '0p25': 'GFS/Global_0p25deg/GFS_Global_0p25deg',\n",
       " '0p5_ana': 'GFS/Global_0p5deg_ana/GFS_Global_0p5deg_ana',\n",
       " '0p5': 'GFS/Global_0p5deg/GFS_Global_0p5deg',\n",
       " 'onedeg_ana': 'GFS/Global_onedeg_ana/GFS_Global_onedeg_ana',\n",
       " 'onedeg': 'GFS/Global_onedeg/GFS_Global_onedeg',\n",
       " 'Pac_20km': 'GFS/Pacific_20km/GFS_Pacific_20km',\n",
       " 'PR_0p25': 'GFS/Puerto_Rico_0p25deg/GFS_Puerto_Rico_0p25deg',\n",
       " 'CONUS_95km': 'GFS/CONUS_95km/GFS_CONUS_95km',\n",
       " 'CONUS_80km': 'GFS/CONUS_80km/GFS_CONUS_80km',\n",
       " 'CONUS_20km': 'GFS/CONUS_20km/GFS_CONUS_20km',\n",
       " 'AK_20km': 'GFS/Alaska_20km/GFS_Alaska_20km'}"
      ]
     },
     "execution_count": 7,
     "metadata": {},
     "output_type": "execute_result"
    }
   ],
   "source": [
    "mslp_name = \"\" # What is the name in the catalog???????\n",
    "# .\n",
    "# .\n",
    "# .\n",
    "# check out the ncss.thredds_model_dict dictionary and ncss.open_var_browser() method\n",
    "ncss.thredds_model_dict[\"GFS\"]"
   ]
  },
  {
   "cell_type": "code",
   "execution_count": null,
   "metadata": {},
   "outputs": [],
   "source": [
    "current_catalog = ncss.open_var_browser(\"GFS\",\"0p25\",datetime.utcnow(),\"0000\")"
   ]
  },
  {
   "cell_type": "code",
   "execution_count": 8,
   "metadata": {},
   "outputs": [
    {
     "data": {
      "text/plain": [
       "var=MSLP_Eta_model_reduction_msl&time_start=2020-10-07T21%3A38%3A47.856666&time_end=2020-10-08T09%3A38%3A47.856666&west=200&east=310&south=0&north=80&accept=netcdf4&addLatLon=True"
      ]
     },
     "execution_count": 8,
     "metadata": {},
     "output_type": "execute_result"
    }
   ],
   "source": [
    "mslp_name = \"MSLP_Eta_model_reduction_msl\"\n",
    "query.variables(mslp_name).add_lonlat(True)"
   ]
  },
  {
   "cell_type": "code",
   "execution_count": 9,
   "metadata": {},
   "outputs": [],
   "source": [
    "# Request data for the variables you want to use\n",
    "data = ncss.get_data(query)"
   ]
  },
  {
   "cell_type": "raw",
   "metadata": {},
   "source": [
    "# don't have netcdf4 installed at the moment so data wont be pulled correctly\n",
    "data"
   ]
  },
  {
   "cell_type": "code",
   "execution_count": null,
   "metadata": {},
   "outputs": [],
   "source": [
    "ncss.thredds_model_dict"
   ]
  },
  {
   "cell_type": "code",
   "execution_count": null,
   "metadata": {},
   "outputs": [],
   "source": [
    "list(ncss.thredds_model_dict.keys())"
   ]
  },
  {
   "cell_type": "code",
   "execution_count": null,
   "metadata": {},
   "outputs": [],
   "source": [
    "ncss.thredds_model_dict[\"RAP\"].keys()"
   ]
  },
  {
   "cell_type": "code",
   "execution_count": null,
   "metadata": {},
   "outputs": [],
   "source": [
    "current_catalog = ncss.open_var_browser(model=\"RAP\",prod=\"CONUS_13km\",datetime_obj=datetime.utcnow(),init_hour = \"0000\")"
   ]
  },
  {
   "cell_type": "code",
   "execution_count": null,
   "metadata": {},
   "outputs": [],
   "source": [
    "current_catalog"
   ]
  },
  {
   "cell_type": "code",
   "execution_count": null,
   "metadata": {},
   "outputs": [],
   "source": [
    "ncss.open_var_browser?"
   ]
  },
  {
   "cell_type": "code",
   "execution_count": null,
   "metadata": {},
   "outputs": [],
   "source": []
  }
 ],
 "metadata": {
  "kernelspec": {
   "display_name": "Python 3",
   "language": "python",
   "name": "python3"
  },
  "language_info": {
   "codemirror_mode": {
    "name": "ipython",
    "version": 3
   },
   "file_extension": ".py",
   "mimetype": "text/x-python",
   "name": "python",
   "nbconvert_exporter": "python",
   "pygments_lexer": "ipython3",
   "version": "3.6.11"
  }
 },
 "nbformat": 4,
 "nbformat_minor": 4
}
