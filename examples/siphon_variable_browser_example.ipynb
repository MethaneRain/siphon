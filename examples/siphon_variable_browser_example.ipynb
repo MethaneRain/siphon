{
 "cells": [
  {
   "cell_type": "markdown",
   "metadata": {},
   "source": [
    "<h2>Finding variable names in THREDDS model datasets via exploring NCSS url</h2>\n",
    "\n",
    "Motivation:\n",
    "\n",
    " - Sometimes when working with different or new model datasets housed on the THREDDS server, I need to look at the specific model and product NCSS html (xml) urls in a browser for the variable name string required when using <code>siphon</code> and it's <code>TDSCatalog</code> and <code>NCSS</code> methods. \n",
    "\n",
    "---\n",
    " \n",
    "Example: \n",
    "\n",
    "I want to query and grab the MSLP data from the GFS 20km CONUS dataset for the current date with 00Z init hour. The first step is to use NCSS to query the variable(s) (ie MSLP in this case) from the NetcdfSubSet url, then grab the data with <code>NCSS.get_data(query)</code\n",
    "    \n",
    "* Problem: Say I don't know the exact name for MSLP in the GFS 20km CONUS dataset (MSLP_Eta_model_reduction_msl) for the <code>NCSS.query()</code>??\n",
    "        \n"
   ]
  },
  {
   "cell_type": "code",
   "execution_count": 2,
   "metadata": {},
   "outputs": [],
   "source": [
    "# Accessing Data from XLM Catalog via Siphon Libraries\n",
    "from siphon.catalog import TDSCatalog\n",
    "from siphon.ncss import NCSS"
   ]
  },
  {
   "cell_type": "code",
   "execution_count": 3,
   "metadata": {},
   "outputs": [],
   "source": [
    "from datetime import datetime, timedelta\n",
    "now = datetime.utcnow()"
   ]
  },
  {
   "cell_type": "markdown",
   "metadata": {},
   "source": [
    "## My experimental contributions to the siphon package"
   ]
  },
  {
   "cell_type": "code",
   "execution_count": 4,
   "metadata": {},
   "outputs": [],
   "source": [
    "# method to get either the new browser with desired model product variable names\n",
    "from siphon.ncss import open_var_browser\n",
    "\n",
    "# dictionary that includes all NCSS-access models as keys and products and url extentions\n",
    "from siphon.ncss import thredds_model_dict"
   ]
  },
  {
   "cell_type": "code",
   "execution_count": 5,
   "metadata": {},
   "outputs": [
    {
     "data": {
      "text/plain": [
       "<function siphon.ncss.open_var_browser(model, prod, datetime_obj, init_hour, open_browser=False)>"
      ]
     },
     "execution_count": 5,
     "metadata": {},
     "output_type": "execute_result"
    }
   ],
   "source": [
    "open_var_browser"
   ]
  },
  {
   "cell_type": "code",
   "execution_count": 6,
   "metadata": {},
   "outputs": [
    {
     "data": {
      "text/plain": [
       "{'RAP': {'CONUS_13km': 'RAP/CONUS_13km/RR_CONUS_13km',\n",
       "  'CONUS_20km': 'RAP/CONUS_20km/RR_CONUS_20km',\n",
       "  'CONUS_40km': 'RAP/CONUS_40km/RR_CONUS_40km'},\n",
       " 'GFS': {'0p25_ana': 'GFS/Global_0p25deg_ana/GFS_Global_0p25deg_ana',\n",
       "  '0p25': 'GFS/Global_0p25deg/GFS_Global_0p25deg',\n",
       "  '0p5_ana': 'GFS/Global_0p5deg_ana/GFS_Global_0p5deg_ana',\n",
       "  '0p5': 'GFS/Global_0p5deg/GFS_Global_0p5deg',\n",
       "  'onedeg_ana': 'GFS/Global_onedeg_ana/GFS_Global_onedeg_ana',\n",
       "  'onedeg': 'GFS/Global_onedeg/GFS_Global_onedeg',\n",
       "  'Pac_20km': 'GFS/Pacific_20km/GFS_Pacific_20km',\n",
       "  'PR_0p25': 'GFS/Puerto_Rico_0p25deg/GFS_Puerto_Rico_0p25deg',\n",
       "  'CONUS_95km': 'GFS/CONUS_95km/GFS_CONUS_95km',\n",
       "  'CONUS_80km': 'GFS/CONUS_80km/GFS_CONUS_80km',\n",
       "  'CONUS_20km': 'GFS/CONUS_20km/GFS_CONUS_20km',\n",
       "  'AK_20km': 'GFS/Alaska_20km/GFS_Alaska_20km'},\n",
       " 'HRRR': {'CONUS_3km': 'HRRR/CONUS_3km/surface/HRRR_CONUS_3km',\n",
       "  'CONUS_2p5km_ana': 'HRRR/CONUS_2p5km_ANA/HRRR_CONUS_2p5km_ana',\n",
       "  'CONUS_2p5km': 'HRRR/CONUS_2p5km/HRRR_CONUS_2p5km'},\n",
       " 'GEFS': {'onedeg_ana': 'GEFS/Global_1p0deg_Ensemble/members-analysis/GEFS_Global_1p0deg_Ensemble_ana',\n",
       "  'onedeg': 'GEFS/Global_1p0deg_Ensemble/members/GEFS_Global_1p0deg_Ensemble',\n",
       "  'onedeg_derived': 'GEFS/Global_1p0deg_Ensemble/derived/GEFS_Global_1p0deg_Ensemble_derived'},\n",
       " 'NAM': {'AK_11km': 'NAM/Alaska_11km/NAM_Alaska_11km',\n",
       "  'AK_45km_noaaport': 'NAM/Alaska_45km/noaaport',\n",
       "  'AK_45km_conduit': 'NAM/Alaska_45km/conduit',\n",
       "  'AK_95km': 'NAM/Alaska_95km',\n",
       "  'CONUS_12km_noaaport': 'NAM/CONUS_12km/NAM_CONUS_12km',\n",
       "  'CONUS_12km_conduit': 'NAM/CONUS_12km/conduit',\n",
       "  'CONUS_20km': 'NAM/CONUS_20km/noaaport',\n",
       "  'CONUS_40km': 'NAM/CONUS_40km/noaaport',\n",
       "  'CONUS_80km': 'NAM/CONUS_80km/noaaport',\n",
       "  'Polar_90km': 'NAM/Polar_90km',\n",
       "  'Fireweather_nested': 'NAM/Firewxnest'},\n",
       " 'NDFD': {'CONUS_forecast_grids_noaaport': 'NDFD/SPC/CONUS/NDFD_SPC_CONUS_2p5km',\n",
       "  'CONUS_forecast_grids_conduit': 'CONUS_20km/RR_CONUS_20km',\n",
       "  'CONUS_SPC': 'NDFD/SPC/CONUS/NDFD_SPC_CONUS_2p5km',\n",
       "  'CONUS_CPC': 'NDFD/CPC/CONUS/NDFD_CPC_CONUS'},\n",
       " 'RTMA': {'meso_ana_2p5km': 'RTMA/CONUS_2p5km/RTMA_CONUS_2p5km',\n",
       "  'meso_guam_ana_2p5km': 'RTMA/GUAM_2p5km/RTMA_GUAM_2p5km'},\n",
       " 'NCEP Blend': {'CONUS': 'NBM/CONUS/National_Blend_CONUS',\n",
       "  'Ocean': 'NBM/Ocean/National_Blend_Ocean',\n",
       "  'AK': 'NBM/Alaska/National_Blend_Alaska',\n",
       "  'HI': 'NBM/Hawaii/National_Blend_Hawaii',\n",
       "  'PR': 'NBM/PuertoRico/National_Blend_PuertoRico'}}"
      ]
     },
     "execution_count": 6,
     "metadata": {},
     "output_type": "execute_result"
    }
   ],
   "source": [
    "thredds_model_dict"
   ]
  },
  {
   "cell_type": "markdown",
   "metadata": {},
   "source": [
    "### The top-level keys of the dictionary are the available models"
   ]
  },
  {
   "cell_type": "code",
   "execution_count": 7,
   "metadata": {},
   "outputs": [
    {
     "data": {
      "text/plain": [
       "['RAP', 'GFS', 'HRRR', 'GEFS', 'NAM', 'NDFD', 'RTMA', 'NCEP Blend']"
      ]
     },
     "execution_count": 7,
     "metadata": {},
     "output_type": "execute_result"
    }
   ],
   "source": [
    "list(thredds_model_dict.keys())"
   ]
  },
  {
   "cell_type": "markdown",
   "metadata": {},
   "source": [
    "## Quickly check out available products and their url extensions for the GFS model\n",
    "\n",
    "* the next-level keys will be the model products/domains\n",
    "\n",
    "* values associated with these keys are part of the url needed to access these products\n",
    "    * see the open_var_browser method to understand more"
   ]
  },
  {
   "cell_type": "code",
   "execution_count": 8,
   "metadata": {},
   "outputs": [
    {
     "data": {
      "text/plain": [
       "['0p25_ana',\n",
       " '0p25',\n",
       " '0p5_ana',\n",
       " '0p5',\n",
       " 'onedeg_ana',\n",
       " 'onedeg',\n",
       " 'Pac_20km',\n",
       " 'PR_0p25',\n",
       " 'CONUS_95km',\n",
       " 'CONUS_80km',\n",
       " 'CONUS_20km',\n",
       " 'AK_20km']"
      ]
     },
     "execution_count": 8,
     "metadata": {},
     "output_type": "execute_result"
    }
   ],
   "source": [
    "list(thredds_model_dict[\"GFS\"].keys())"
   ]
  },
  {
   "cell_type": "markdown",
   "metadata": {},
   "source": [
    "### Let's put these additions to use, first we need to supply a datetime"
   ]
  },
  {
   "cell_type": "code",
   "execution_count": 9,
   "metadata": {},
   "outputs": [
    {
     "data": {
      "text/plain": [
       "(datetime.datetime(2020, 10, 8, 0, 0), datetime.datetime)"
      ]
     },
     "execution_count": 9,
     "metadata": {},
     "output_type": "execute_result"
    }
   ],
   "source": [
    "now = datetime.utcnow()\n",
    "now = datetime(2020,10,8,0,0)\n",
    "now, type(now)"
   ]
  },
  {
   "cell_type": "markdown",
   "metadata": {},
   "source": [
    "### The method can open a browser or not, but it will always return the xlm url to use in querying the data!\n",
    "\n",
    "* just plug the returned variable to TDSCatalog() method "
   ]
  },
  {
   "cell_type": "code",
   "execution_count": 10,
   "metadata": {},
   "outputs": [
    {
     "data": {
      "text/plain": [
       "'https://thredds.ucar.edu/thredds/catalog/grib/NCEP/GFS/CONUS_20km/GFS_CONUS_20km_20201008_0000.grib2/catalog.xml'"
      ]
     },
     "execution_count": 10,
     "metadata": {},
     "output_type": "execute_result"
    }
   ],
   "source": [
    "catalog_url = open_var_browser(model = \"GFS\",\n",
    "                                   prod = \"CONUS_20km\",\n",
    "                                   datetime_obj = now,\n",
    "                                   init_hour = \"0000\",\n",
    "                                   open_browser=False)\n",
    "catalog_url"
   ]
  },
  {
   "cell_type": "markdown",
   "metadata": {},
   "source": [
    "<h3> Now supply the <code style=\"font-size:14px\">catalog_url</code> to the <code style=\"font-size:14px\">TDSCatalog method</code></h3>"
   ]
  },
  {
   "cell_type": "code",
   "execution_count": 11,
   "metadata": {},
   "outputs": [
    {
     "data": {
      "text/plain": [
       "[GFS_CONUS_20km_20201008_0000.grib2]"
      ]
     },
     "execution_count": 11,
     "metadata": {},
     "output_type": "execute_result"
    }
   ],
   "source": [
    "model = TDSCatalog(catalog_url)\n",
    "list(model.datasets.values())"
   ]
  },
  {
   "cell_type": "code",
   "execution_count": 12,
   "metadata": {},
   "outputs": [
    {
     "data": {
      "text/plain": [
       "(siphon.catalog.TDSCatalog, odict_values)"
      ]
     },
     "execution_count": 12,
     "metadata": {},
     "output_type": "execute_result"
    }
   ],
   "source": [
    "type(model),type(model.datasets.values())"
   ]
  },
  {
   "cell_type": "code",
   "execution_count": 13,
   "metadata": {},
   "outputs": [
    {
     "data": {
      "text/plain": [
       "['OPENDAP',\n",
       " 'HTTPServer',\n",
       " 'WCS',\n",
       " 'WMS',\n",
       " 'NetcdfSubset',\n",
       " 'CdmRemote',\n",
       " 'NCML',\n",
       " 'UDDC',\n",
       " 'ISO']"
      ]
     },
     "execution_count": 13,
     "metadata": {},
     "output_type": "execute_result"
    }
   ],
   "source": [
    "dataset = list(model.datasets.values())[0]\n",
    "list(dataset.access_urls.keys())"
   ]
  },
  {
   "cell_type": "code",
   "execution_count": 14,
   "metadata": {},
   "outputs": [],
   "source": [
    "# Create NCSS object to access the NetcdfSubset\n",
    "ncss = NCSS(dataset.access_urls['NetcdfSubset'])"
   ]
  },
  {
   "cell_type": "code",
   "execution_count": 15,
   "metadata": {},
   "outputs": [
    {
     "name": "stdout",
     "output_type": "stream",
     "text": [
      "2020-10-08 00:00:00\n",
      "2020-10-08 12:00:00\n"
     ]
    }
   ],
   "source": [
    "# define time range you want the data for\n",
    "start = now\n",
    "print(start)\n",
    "delta_t = 12\n",
    "end = now + timedelta(hours=delta_t)\n",
    "print(end)\n"
   ]
  },
  {
   "cell_type": "code",
   "execution_count": 16,
   "metadata": {},
   "outputs": [],
   "source": [
    "mslp_name = \"MSLP????\" # What is the name in the catalog?\n",
    "# .\n",
    "# .\n",
    "# .\n",
    "\n",
    "# check out the thredds_model_dict dictionary and then open_var_browser method\n"
   ]
  },
  {
   "cell_type": "markdown",
   "metadata": {},
   "source": [
    "### Say we're instersted in the GFS model, we can search the thredds model dictionary <code style=\"font-size:14px\">thredds_model_dict[\"GFS\"]</code>. \n",
    "\n",
    "Remember, the keys of the search will be all the available products for that model"
   ]
  },
  {
   "cell_type": "code",
   "execution_count": 17,
   "metadata": {},
   "outputs": [
    {
     "data": {
      "text/plain": [
       "['0p25_ana',\n",
       " '0p25',\n",
       " '0p5_ana',\n",
       " '0p5',\n",
       " 'onedeg_ana',\n",
       " 'onedeg',\n",
       " 'Pac_20km',\n",
       " 'PR_0p25',\n",
       " 'CONUS_95km',\n",
       " 'CONUS_80km',\n",
       " 'CONUS_20km',\n",
       " 'AK_20km']"
      ]
     },
     "execution_count": 17,
     "metadata": {},
     "output_type": "execute_result"
    }
   ],
   "source": [
    "# say we're instersted in the GFS model, we can\n",
    "list(thredds_model_dict[\"GFS\"].keys())"
   ]
  },
  {
   "cell_type": "markdown",
   "metadata": {},
   "source": [
    "### Sweet, let's choose a product and run that and the other desired arguments for <code style=\"font-size:14px\">open_var_browser</code> and open a new browser to see what the available variable names needed for NCSS query\n",
    "\n",
    "* same as before, but this time set open_browser to True"
   ]
  },
  {
   "cell_type": "code",
   "execution_count": null,
   "metadata": {},
   "outputs": [],
   "source": [
    "open_var_browser?"
   ]
  },
  {
   "cell_type": "code",
   "execution_count": 25,
   "metadata": {},
   "outputs": [],
   "source": [
    "current_catalog = open_var_browser(model = \"GFS\",\n",
    "                                   prod = \"CONUS_20km\",\n",
    "                                   datetime_obj = now,\n",
    "                                   init_hour = \"0000\",\n",
    "                                   open_browser=True)"
   ]
  },
  {
   "cell_type": "markdown",
   "metadata": {},
   "source": [
    "### Sample image of website brought up\n",
    "\n",
    "https://thredds.ucar.edu/thredds/ncss/grib/NCEP/GFS/CONUS_20km/GFS_CONUS_20km_20201008_0000.grib2/dataset.html\n",
    "\n",
    "<img src=\"thredds_variable_browser_img.png\"></img>"
   ]
  },
  {
   "cell_type": "markdown",
   "metadata": {},
   "source": [
    "### Query variable names and grab data\n",
    "\n",
    "#### So now that we can search the dataset by the actual variable names needed for the data query, let's plug in the name for the MSLP"
   ]
  },
  {
   "cell_type": "code",
   "execution_count": 18,
   "metadata": {},
   "outputs": [],
   "source": [
    "query = ncss.query()\n",
    "query.time_range(start, end)\n",
    "query.lonlat_box(north=80, south=0, east=310, west=200)\n",
    "query.accept('netcdf4')\n",
    "\n",
    "mslp_name = \"MSLP_Eta_model_reduction_msl\"\n",
    "query.variables(mslp_name).add_lonlat(True)\n",
    "\n",
    "# Request data for the variables you want to use\n",
    "data = ncss.get_data(query)"
   ]
  },
  {
   "cell_type": "code",
   "execution_count": 19,
   "metadata": {},
   "outputs": [
    {
     "data": {
      "text/plain": [
       "<class 'netCDF4._netCDF4.Dataset'>\n",
       "root group (NETCDF4 data model, file format HDF5):\n",
       "    Originating_or_generating_Center: US National Weather Service, National Centres for Environmental Prediction (NCEP)\n",
       "    Originating_or_generating_Subcenter: 0\n",
       "    GRIB_table_version: 2,1\n",
       "    Type_of_generating_process: Forecast\n",
       "    Analysis_or_forecast_generating_process_identifier_defined_by_originating_centre: Analysis from GFS (Global Forecast System)\n",
       "    Conventions: CF-1.6\n",
       "    history: Read using CDM IOSP GribCollection v3\n",
       "    featureType: GRID\n",
       "    History: Translated to CF-1.0 Conventions by Netcdf-Java CDM (CFGridWriter2)\n",
       "Original Dataset = /data/ldm/pub/native/grid/NCEP/GFS/CONUS_20km/GFS_CONUS_20km_20201008_0000.grib2.ncx3#LambertConformal_257X369-40p69N-100p4W; Translation Date = 2020-10-09T16:47:19.834Z\n",
       "    geospatial_lat_min: 13.79481320192154\n",
       "    geospatial_lat_max: 57.335950219792934\n",
       "    geospatial_lon_min: -153.0345501621164\n",
       "    geospatial_lon_max: -49.20529767978462\n",
       "    dimensions(sizes): time(5), y(247), x(369)\n",
       "    variables(dimensions): float32 MSLP_Eta_model_reduction_msl(time, y, x), float64 time(time), float32 y(y), float32 x(x), int32 LambertConformal_Projection(), float64 lat(y, x), float64 lon(y, x)\n",
       "    groups: "
      ]
     },
     "execution_count": 19,
     "metadata": {},
     "output_type": "execute_result"
    }
   ],
   "source": [
    "data"
   ]
  },
  {
   "cell_type": "code",
   "execution_count": null,
   "metadata": {},
   "outputs": [],
   "source": []
  }
 ],
 "metadata": {
  "kernelspec": {
   "display_name": "Python 3",
   "language": "python",
   "name": "python3"
  },
  "language_info": {
   "codemirror_mode": {
    "name": "ipython",
    "version": 3
   },
   "file_extension": ".py",
   "mimetype": "text/x-python",
   "name": "python",
   "nbconvert_exporter": "python",
   "pygments_lexer": "ipython3",
   "version": "3.6.11"
  }
 },
 "nbformat": 4,
 "nbformat_minor": 4
}
